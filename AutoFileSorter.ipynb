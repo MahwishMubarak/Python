{
 "cells": [
  {
   "cell_type": "markdown",
   "id": "db1c3b1e",
   "metadata": {},
   "source": [
    "# Automatic File Sorter in File Explorer"
   ]
  },
  {
   "cell_type": "code",
   "execution_count": 8,
   "id": "135d75a3",
   "metadata": {},
   "outputs": [],
   "source": [
    "import os,shutil\n",
    "path = r\"D:/Documents/\"\n",
    "file_name = os.listdir(path)\n",
    "folder_names = ['image files', 'pdf files']\n",
    "\n",
    "for loop in range(0,2):\n",
    "    if not os.path.exists(path + folder_names[loop]):\n",
    "        os.makedirs(path + folder_names[loop])\n",
    "for file in file_name:\n",
    "    if '.png' in file and not os.path.exists(path + \"image files/\" + file):\n",
    "        shutil.move(path + file, (path + \"image files/\" + file))\n",
    "    elif '.pdf' in file and not os.path.exists(path + \"pdf files/\" + file):\n",
    "        shutil.move(path + file, (path + \"pdf files/\" + file))"
   ]
  },
  {
   "cell_type": "code",
   "execution_count": null,
   "id": "0f1eef47",
   "metadata": {},
   "outputs": [],
   "source": []
  }
 ],
 "metadata": {
  "kernelspec": {
   "display_name": "Python 3 (ipykernel)",
   "language": "python",
   "name": "python3"
  },
  "language_info": {
   "codemirror_mode": {
    "name": "ipython",
    "version": 3
   },
   "file_extension": ".py",
   "mimetype": "text/x-python",
   "name": "python",
   "nbconvert_exporter": "python",
   "pygments_lexer": "ipython3",
   "version": "3.11.5"
  }
 },
 "nbformat": 4,
 "nbformat_minor": 5
}
